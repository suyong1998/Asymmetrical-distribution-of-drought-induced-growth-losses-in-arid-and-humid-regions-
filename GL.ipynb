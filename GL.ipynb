{
 "cells": [
  {
   "cell_type": "code",
   "execution_count": null,
   "id": "cacd2003-bcc1-4e27-a07f-be5ae767c295",
   "metadata": {},
   "outputs": [],
   "source": [
    "import numpy as np\n",
    "import pandas as pd\n",
    "import seaborn as sns\n",
    "from scipy import stats\n",
    "import matplotlib.pyplot as plt\n",
    "import scipy.stats\n",
    "import seaborn as sns\n",
    "from scipy.stats import f_oneway\n",
    "from scipy.stats import linregress"
   ]
  },
  {
   "cell_type": "code",
   "execution_count": null,
   "id": "9318672b-d0d4-4068-962f-6c21223bd5a0",
   "metadata": {},
   "outputs": [],
   "source": [
    "df_scPDSI = pd.read_csv('annual_scPDSI.csv')\n",
    "df_pre = pd.read_csv('annual_pre.csv')\n",
    "df_temp = pd.read_csv('annual_temp.csv')\n",
    "df_tmax = pd.read_csv('annual_Tmax.csv')\n",
    "df_tmin = pd.read_csv('annual_Tmin.csv')\n",
    "df_dtr = pd.read_csv('annual_dtr.csv')\n",
    "df_pet = pd.read_csv('annual_pet.csv')\n",
    "df_vpd = pd.read_csv('annual_VPD.csv')\n",
    "df_sample = pd.read_csv('sample_site.csv')"
   ]
  },
  {
   "cell_type": "code",
   "execution_count": null,
   "id": "7fe77f90-4b6a-4c60-9a14-a3b87b260cf8",
   "metadata": {},
   "outputs": [],
   "source": [
    "def get_dry_wet_years(df):\n",
    "    dry_years = {}\n",
    "    wet_years = {}\n",
    "\n",
    "    for site in df.index:\n",
    "        dry_years[site] = []\n",
    "        wet_years[site] = []\n",
    "\n",
    "        for year in df.columns:\n",
    "            value = df.loc[site, year]\n",
    "\n",
    "            if -4 < value < -0.5:\n",
    "                dry_years[site].append(year)\n",
    "            elif 0.5 < value < 4:\n",
    "                wet_years[site].append(year)\n",
    "\n",
    "    return dry_years, wet_years\n",
    "\n",
    "dry_years, wet_years = get_dry_wet_years(df_scPDSI.dropna().set_index('site'))"
   ]
  },
  {
   "cell_type": "code",
   "execution_count": null,
   "id": "9fb7bf76-bcc7-40d0-81af-61d6ea97c884",
   "metadata": {},
   "outputs": [],
   "source": [
    "def intersection_list_ordered(list1, list2):\n",
    "    result = [value for value in list1 if value in list2]\n",
    "\n",
    "    return result\n",
    "\n",
    "list1 = [1, 2, 3, 4, 5]\n",
    "list2 = [3, 4, 5, 6, 7]\n",
    "\n",
    "result = intersection_list_ordered(list1, list2)\n",
    "print(result)"
   ]
  },
  {
   "cell_type": "code",
   "execution_count": null,
   "id": "b6cec09b-0ebe-480d-aa62-db749fee445e",
   "metadata": {},
   "outputs": [],
   "source": [
    "def calculate_row_means(df1,df2):\n",
    "    df_concat = pd.merge(df1,df2, on = 'site')\n",
    "    df_concat.loc[:,'1901':].mean(axis= 1)\n",
    "    return df_concat.loc[:,'1901':].mean(axis= 1).to_list()"
   ]
  },
  {
   "cell_type": "code",
   "execution_count": null,
   "id": "90ab6141-9430-489d-8406-755dab3a5b37",
   "metadata": {},
   "outputs": [],
   "source": [
    "list_Growth_loss = []\n",
    "from tqdm import tqdm\n",
    "site_list =pd.merge(df_sample,df_scPDSI.dropna().reset_index(),on = 'site')['site'].to_list()\n",
    "for i in tqdm(range(len(site_list)), desc=\"Calculating Growth_loss\"):\n",
    "    site_i = site_list[i]\n",
    "    std_path = 'E:\\experiment\\DTR_AI_growth\\data\\ITRDB\\FZS_STD_crn\\\\'+ site_i + '.rwlcrn.csv'\n",
    "    df_rwl_i =pd.read_csv(std_path)\n",
    "    #Growth-no-drought\n",
    "    wet_years_i  = [int(year) for year in wet_years[site_i]]\n",
    "    wet_years_i = [year for year in wet_years_i if year <= 2015]\n",
    "    wet_years_i_intersection = intersection_list_ordered(wet_years_i,df_rwl_i.index.to_list())\n",
    "    Growth_no_dry = df_rwl_i.loc[wet_years_i_intersection,'std'].mean()\n",
    "    #Growth-drought\n",
    "    dry_years_i  = [int(year) for year in dry_years[site_i]]\n",
    "    dry_years_i = [year for year in dry_years_i if year <= 2015]\n",
    "    dry_years_i_intersection = intersection_list_ordered(dry_years_i,df_rwl_i.index.to_list())\n",
    "    Growth_dry = df_rwl_i.loc[dry_years_i_intersection,'std'].mean()\n",
    "    Growth_loss = (Growth_no_dry-Growth_dry)/Growth_no_dry\n",
    "    list_Growth_loss.append(Growth_loss)"
   ]
  },
  {
   "cell_type": "code",
   "execution_count": null,
   "id": "6f78bec9-9723-4987-a970-b8ce6665bc82",
   "metadata": {},
   "outputs": [],
   "source": [
    "cs = pd.merge(df_sample,df_scPDSI.dropna().reset_index()['site'],on = 'site')"
   ]
  },
  {
   "cell_type": "code",
   "execution_count": null,
   "id": "ef3f1c2d-773d-4b63-9105-89da654d68f8",
   "metadata": {},
   "outputs": [],
   "source": [
    "scpDSI_mean = calculate_row_means(cs,df_scPDSI)\n",
    "pre_mean = calculate_row_means(cs,df_pre)\n",
    "temp_mean = calculate_row_means(cs,df_temp)\n",
    "tmax_mean = calculate_row_means(cs,df_tmax)\n",
    "tmin_mean = calculate_row_means(cs,df_tmin)\n",
    "dtr_mean = calculate_row_means(cs,df_dtr)\n",
    "pet_mean = calculate_row_means(cs,df_pet)\n",
    "vpd_mean = calculate_row_means(cs,df_vpd)"
   ]
  },
  {
   "cell_type": "code",
   "execution_count": null,
   "id": "99fed8ac-f3e5-4d63-b7ca-b2a6fd4da3bf",
   "metadata": {},
   "outputs": [],
   "source": [
    "mean_Groth_loss = {'site':site_list,'Growth_loss':list_Growth_loss,'pre_mean':pre_mean,\n",
    "           'scpDSI_mean':scpDSI_mean,'temp_mean':temp_mean,'tmax_mean':tmax_mean,\n",
    "                  'tmin_mean':tmin_mean,'dtr_mean':dtr_mean,'pet_mean':pet_mean,\n",
    "                'VPD_mean': vpd_mean }\n",
    "df_mean_Groth_loss = pd.DataFrame(mean_Groth_loss)\n",
    "df_merge = pd.merge(df_mean_Groth_loss,df_sample,on='site')\n",
    "df_merge = df_merge.dropna()\n",
    "df_merge.to_csv('GrowthLoss.csv')\n",
    "Arid = df_merge[df_merge['AI_Class']=='Arid']\n",
    "Humid = df_merge[df_merge['AI_Class']=='Humid']"
   ]
  },
  {
   "cell_type": "code",
   "execution_count": null,
   "id": "4cbdc949-bb71-464d-84ed-ce7ca37aa4b4",
   "metadata": {},
   "outputs": [],
   "source": [
    "def calculate_confidence_interval(df, column):\n",
    "    lower_bound = np.percentile(df[column], 2.5)\n",
    "    upper_bound = np.percentile(df[column], 97.5)\n",
    "    df_95 = df[(df[column] >= lower_bound) & (df[column] <= upper_bound)]\n",
    "    mean_value = np.mean(df_95[column])\n",
    "    print(\"95% Confidence Interval ({}): [{:.4f}, {:.4f}]\".format(column, lower_bound, upper_bound))\n",
    "    print(\"Mean ({}): {:.4f}\".format(column, mean_value))\n",
    "    return df_95"
   ]
  },
  {
   "cell_type": "code",
   "execution_count": null,
   "id": "6b1d72d6-209f-469e-a8ea-3e7ada5442a9",
   "metadata": {},
   "outputs": [],
   "source": [
    "grouped = df_merge.groupby('AI_Class')\n",
    "anova_results_dr = {}\n",
    "anova_results_wr = {}\n",
    "group_humid = grouped.get_group('Humid')\n",
    "group_arid = grouped.get_group('Arid')\n",
    "group_humid95 = calculate_confidence_interval(group_humid, 'Growth_loss')\n",
    "group_arid95 = calculate_confidence_interval(group_arid, 'Growth_loss')\n",
    "df_merge95 = pd.concat([group_humid95,group_arid95],axis=0)\n",
    "f_statistic_dr, p_value_dr = f_oneway(group_humid95['Growth_loss'], group_arid95['Growth_loss'])\n",
    "anova_results_dr['Growth_loss'] = {'F-statistic': f_statistic_dr, 'p-value': p_value_dr}\n",
    "\n",
    "for key, value in anova_results_dr.items():\n",
    "    print(f\"{key}: F-statistic: {value['F-statistic']}, p-value: {value['p-value']}\")\n",
    "df_merge95.to_csv('GLaridHumid_95.csv',index=False)    "
   ]
  },
  {
   "cell_type": "code",
   "execution_count": null,
   "id": "a9c4cb6e-993b-40ee-90aa-b8cb92518d47",
   "metadata": {},
   "outputs": [],
   "source": [
    "plt.rcParams['font.family'] = 'Times New Roman'\n",
    "plt.rcParams['font.size'] = 16\n",
    "plt.rcParams[\"xtick.labelsize\"] = 16\n",
    "plt.rcParams[\"ytick.labelsize\"] = 16\n",
    "colors = [(0/255, 92/255, 230/255),(255/255, 0/255, 0/255)]\n",
    "plt.figure(figsize=(4,3.5),dpi=100)\n",
    "#palette=['#8DCDD5','#E6846D']\n",
    "alpha = 0.5 \n",
    "sns.boxplot(x=\"AI_Class\", y=\"Growth_loss\", data=df_merge95\n",
    "            ,palette=colors,  fill=False, gap=.2, boxprops=dict(alpha=alpha)\n",
    "            , whiskerprops=dict(alpha=alpha)\n",
    "            , capprops=dict(alpha=alpha), medianprops=dict(alpha=alpha))\n",
    "plt.axhline(0, color='black', linestyle='--',linewidth=.6)\n",
    "plt.ylim(-0.3,0.6)\n",
    "plt.yticks([-0.3,0,0.3,0.6]) \n",
    "plt.legend().set_visible(False)\n",
    "plt.xlabel('')\n",
    "plt.ylabel('Growth loss',fontsize=18)\n",
    "plt.text(0.5, 0.5, '***', ha='center', va='center')\n",
    "plt.text('Humid', 0.5,  f'n= {len(group_humid95)}', ha='center', va='center')\n",
    "plt.text('Arid', 0.5,  f'n= {len(group_arid95)}', ha='center', va='center')\n",
    "plt.savefig('Fig2c.jpg',dpi=300, bbox_inches='tight')\n",
    "plt.show()"
   ]
  },
  {
   "cell_type": "code",
   "execution_count": null,
   "id": "23ad197e-05e6-4fda-a816-58ccdf2d3e8e",
   "metadata": {},
   "outputs": [],
   "source": [
    "df_merge95['Latitude_bin'] = pd.cut(df_merge95['Latitude'], bins=np.arange(-90, 91, 1))\n",
    "latitude_stats = df_merge95.groupby('Latitude_bin')['Growth_loss'].agg(['mean', 'sem']).reset_index()\n",
    "slope, intercept, r_value, p_value, std_err = linregress(latitude_stats.dropna()['mean'], latitude_stats.dropna()['Latitude_bin'].apply(lambda x: x.mid))\n",
    "\n",
    "\n",
    "fig, ax = plt.subplots(figsize=(3, 6))\n",
    "ax.axvline(x=0, color='gray', linestyle='--')\n",
    "ax.plot(latitude_stats['mean'], latitude_stats['Latitude_bin'].apply(lambda x: x.mid), marker='o', linestyle='-', color='black')\n",
    "ax.fill_betweenx(latitude_stats['Latitude_bin'].apply(lambda x: x.mid), \n",
    "                 latitude_stats['mean'] - 1.96 * latitude_stats['sem'], \n",
    "                 latitude_stats['mean'] + 1.96 * latitude_stats['sem'], \n",
    "                 color='orange', alpha=0.3)\n",
    "\n",
    "\n",
    "ax.plot(latitude_stats.dropna()['mean'], intercept + slope * latitude_stats.dropna()['mean'],color = 'blue')\n",
    "ax.set_xlabel('Growth Loss')\n",
    "ax.set_ylabel('Latitude (°)')\n",
    "ax.set_xlim(-0.2, 0.3) \n",
    "ax.grid(True)\n",
    "ax.text(0.05, 0.35, f'r ={r_value:.2f}\\np ={p_value:.2e}', transform=ax.transAxes\n",
    "        , fontsize=14, verticalalignment='top')\n",
    "plt.ylim(15,75)\n",
    "plt.savefig('FigS5a.jpg', dpi=600, bbox_inches='tight')\n",
    "plt.show()"
   ]
  },
  {
   "cell_type": "code",
   "execution_count": null,
   "id": "6d58de6f-c136-46c3-9590-253e795cae55",
   "metadata": {},
   "outputs": [],
   "source": [
    "plt.style.use('default')\n",
    "plt.rcParams[\"xtick.labelsize\"] = 36\n",
    "plt.rcParams[\"ytick.labelsize\"] = 36\n",
    "plt.rcParams['font.family'] = 'Times New Roman'\n",
    "plt.rcParams['font.size'] = 36\n",
    "negative_percentage = (df_merge95['Growth_loss'] < 0).mean() * 100\n",
    "positive_percentage = (df_merge95['Growth_loss'] > 0).mean() * 100\n",
    "\n",
    "data = pd.DataFrame({\n",
    "    'Category': ['Negative', 'Positive'],\n",
    "    'Percentage': [negative_percentage, positive_percentage]\n",
    "})\n",
    "plt.figure(figsize=(2,3.5),dpi=100)\n",
    "colors = [(0/255, 92/255, 230/255),(255/255, 0/255, 0/255)]\n",
    "\n",
    "x = [0.3, 0.2]\n",
    "\n",
    "fig, ax = plt.subplots()\n",
    "bars = ax.bar(x, data['Percentage'], color=colors, width=0.06,alpha=0.7)\n",
    "\n",
    "ax.set_xticks(x)\n",
    "ax.set_xticklabels(data['Category'])\n",
    "\n",
    "for bar in bars:\n",
    "    height = bar.get_height()\n",
    "    ax.annotate(f'{height:.0f}%', xy=(bar.get_x() + bar.get_width() / 2, height),\n",
    "                xytext=(0, -20), textcoords=\"offset points\", ha='center', va='bottom')  # 标注下移一点\n",
    "\n",
    "plt.savefig('Fig2aGLbars.jpg',dpi=600)\n",
    "plt.show()"
   ]
  },
  {
   "cell_type": "code",
   "execution_count": null,
   "id": "386da88b-5df7-4af3-918d-1bc48f3ff7c5",
   "metadata": {},
   "outputs": [],
   "source": []
  }
 ],
 "metadata": {
  "kernelspec": {
   "display_name": "Python 3 (ipykernel)",
   "language": "python",
   "name": "python3"
  },
  "language_info": {
   "codemirror_mode": {
    "name": "ipython",
    "version": 3
   },
   "file_extension": ".py",
   "mimetype": "text/x-python",
   "name": "python",
   "nbconvert_exporter": "python",
   "pygments_lexer": "ipython3",
   "version": "3.11.7"
  }
 },
 "nbformat": 4,
 "nbformat_minor": 5
}
